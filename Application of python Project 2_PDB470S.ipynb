{
 "cells": [
  {
   "cell_type": "markdown",
   "id": "25c2a2b0",
   "metadata": {},
   "source": [
    "Part1: Python Programming"
   ]
  },
  {
   "cell_type": "markdown",
   "id": "f3db3ff6",
   "metadata": {},
   "source": [
    "Exercise 1: Social Media UserName"
   ]
  },
  {
   "cell_type": "code",
   "execution_count": null,
   "id": "cbb40ee9",
   "metadata": {},
   "outputs": [],
   "source": [
    "import random\n",
    "import string\n",
    "\n",
    "def UsernameGenerator():\n",
    "    digits = string.digits\n",
    "    lowercase_letters = string.ascii_lowercase\n",
    "\n",
    "    # Select 3 random digits and 5 random lowercase letters\n",
    "    random_digits = ''.join(random.choices(digits, k=3))\n",
    "    random_letters = ''.join(random.choices(lowercase_letters, k=5))\n",
    "\n",
    "    # Combine the random digits and letters\n",
    "    username = random_digits + random_letters\n",
    "    return username\n",
    "\n",
    "\n",
    "# Example usage:\n",
    "username = UsernameGenerator()\n",
    "print(username)\n"
   ]
  },
  {
   "cell_type": "markdown",
   "id": "80633906",
   "metadata": {},
   "source": [
    "Exercise 2: Gambling Scheme"
   ]
  },
  {
   "cell_type": "code",
   "execution_count": null,
   "id": "48a398e4",
   "metadata": {},
   "outputs": [],
   "source": [
    "import random\n",
    "import string\n",
    "\n",
    "def PasswordGenerator():\n",
    "    uppercase_letters = string.ascii_uppercase\n",
    "    lowercase_letters = string.ascii_lowercase\n",
    "    digits = string.digits\n",
    "    special_characters = string.punctuation\n",
    "\n",
    "    # Select one character from each category\n",
    "    random_uppercase = random.choice(uppercase_letters)\n",
    "    random_lowercase = random.choice(lowercase_letters)\n",
    "    random_digit = random.choice(digits)\n",
    "    random_special = random.choice(special_characters)\n",
    "\n",
    "    # Select remaining characters randomly\n",
    "    random_chars = [\n",
    "        random.choice(uppercase_letters + lowercase_letters + digits + special_characters)\n",
    "        for _ in range(8)\n",
    "    ]\n",
    "\n",
    "    # Combine all characters and shuffle\n",
    "    password_list = [random_uppercase, random_lowercase, random_digit, random_special] + random_chars\n",
    "    random.shuffle(password_list)\n",
    "\n",
    "    # Convert the list to a string\n",
    "    password = ''.join(password_list)\n",
    "    return password\n",
    "\n",
    "\n",
    "# Example usage:\n",
    "password = PasswordGenerator()\n",
    "print(password)\n"
   ]
  },
  {
   "cell_type": "markdown",
   "id": "78242c46",
   "metadata": {},
   "source": [
    "Exercise 3: Gregorian to Ordinal D"
   ]
  },
  {
   "cell_type": "code",
   "execution_count": null,
   "id": "c56333d5",
   "metadata": {},
   "outputs": [],
   "source": [
    "def is_leap_year(year):\n",
    "    \"\"\"\n",
    "    Check if a year is a leap year.\n",
    "    \"\"\"\n",
    "    return (year % 4 == 0 and year % 100 != 0) or (year % 400 == 0)\n",
    "\n",
    "def ordinalDate(day, month, year):\n",
    "    \"\"\"\n",
    "    Calculate the day within the year for a given date.\n",
    "    \"\"\"\n",
    "    days_in_month = [0, 31, 28, 31, 30, 31, 30, 31, 31, 30, 31, 30, 31]\n",
    "\n",
    "    if is_leap_year(year):\n",
    "        days_in_month[2] = 29\n",
    "\n",
    "    day_count = 0\n",
    "    for i in range(1, month):\n",
    "        day_count += days_in_month[i]\n",
    "\n",
    "    day_count += day\n",
    "\n",
    "    return day_count\n",
    "\n",
    "\n",
    "# Example usage:\n",
    "day = 14\n",
    "month = 10\n",
    "year = 2023\n",
    "result = ordinalDate(day, month, year)\n",
    "print(result)\n"
   ]
  },
  {
   "cell_type": "markdown",
   "id": "50ea05e3",
   "metadata": {},
   "source": [
    "Exercise 4: Fix the Pass"
   ]
  },
  {
   "cell_type": "code",
   "execution_count": null,
   "id": "315ef7e1",
   "metadata": {},
   "outputs": [],
   "source": [
    "import string\n",
    "import random\n",
    "\n",
    "def generate_password():\n",
    "    lowercase_letters = string.ascii_lowercase\n",
    "    uppercase_letters = string.ascii_uppercase\n",
    "    digits = string.digits\n",
    "    punctuation = string.punctuation\n",
    "\n",
    "    # Select 2 random characters from each category\n",
    "    random_lowercase = ''.join(random.choices(lowercase_letters, k=2))\n",
    "    random_uppercase = ''.join(random.choices(uppercase_letters, k=2))\n",
    "    random_digits = ''.join(random.choices(digits, k=2))\n",
    "    random_punctuation = ''.join(random.choices(punctuation, k=2))\n",
    "\n",
    "    # Combine all the random characters and shuffle\n",
    "    password_list = list(random_lowercase + random_uppercase + random_digits + random_punctuation)\n",
    "    random.shuffle(password_list)\n",
    "\n",
    "    # Convert the list to a string\n",
    "    password = ''.join(password_list)\n",
    "    return password\n",
    "\n",
    "\n",
    "# Get the customer's name\n",
    "name = input(\"Enter your name: \")\n",
    "\n",
    "# Generate the password\n",
    "password = generate_password()\n",
    "\n",
    "# Print the generated password\n",
    "print(f\"Hello {name}, your password is: {password}\")\n"
   ]
  },
  {
   "cell_type": "markdown",
   "id": "fbd2e62d",
   "metadata": {},
   "source": [
    "Part 2 : Database Programming using SQL"
   ]
  },
  {
   "cell_type": "markdown",
   "id": "5c1fd3a3",
   "metadata": {},
   "source": [
    "Exercise 5: HR Analysis "
   ]
  },
  {
   "cell_type": "code",
   "execution_count": null,
   "id": "d8f113a2",
   "metadata": {},
   "outputs": [],
   "source": [
    "#1)\n",
    "SELECT first_name, last_name\n",
    "FROM employees\n",
    "WHERE salary > 20000;\n"
   ]
  },
  {
   "cell_type": "code",
   "execution_count": null,
   "id": "3032ec3b",
   "metadata": {},
   "outputs": [],
   "source": [
    "#2)\n",
    "SELECT first_name, last_name\n",
    "FROM employees\n",
    "WHERE department_id IN (SELECT department_id FROM departments WHERE department_name = 'Sales');\n"
   ]
  },
  {
   "cell_type": "code",
   "execution_count": null,
   "id": "91c8246c",
   "metadata": {},
   "outputs": [],
   "source": [
    "#3)\n",
    "SELECT first_name, last_name, salary, salary * 0.12 AS Portfolio\n",
    "FROM employees;\n"
   ]
  },
  {
   "cell_type": "code",
   "execution_count": null,
   "id": "872a67af",
   "metadata": {},
   "outputs": [],
   "source": [
    "#4)\n",
    "SELECT e.first_name, e.last_name, e.salary\n",
    "FROM employees e\n",
    "JOIN (SELECT department_id, AVG(salary) AS avg_salary FROM employees GROUP BY department_id) d\n",
    "ON e.department_id = d.department_id\n",
    "WHERE e.salary > d.avg_salary;\n"
   ]
  },
  {
   "cell_type": "code",
   "execution_count": null,
   "id": "27ba4e83",
   "metadata": {},
   "outputs": [],
   "source": [
    "#5)\n",
    "SELECT e.first_name, e.last_name, j.job_title\n",
    "FROM employees e\n",
    "JOIN jobs j ON e.job_id = j.job_id\n",
    "WHERE j.job_title = 'Finance Manager';\n"
   ]
  },
  {
   "cell_type": "code",
   "execution_count": null,
   "id": "fddd9f03",
   "metadata": {},
   "outputs": [],
   "source": [
    "#6)\n",
    "SELECT SUBSTR(first_name, 1, 3) AS first_three_chars\n",
    "FROM employees;\n"
   ]
  },
  {
   "cell_type": "code",
   "execution_count": null,
   "id": "1721da7c",
   "metadata": {},
   "outputs": [],
   "source": [
    "#7)\n",
    "SELECT COUNT(DISTINCT job_id) AS job_count\n",
    "FROM employees;\n"
   ]
  },
  {
   "cell_type": "markdown",
   "id": "b4d7b0c3",
   "metadata": {},
   "source": [
    "Part3 : Connecting to Databases using Python and SQLite3"
   ]
  },
  {
   "cell_type": "markdown",
   "id": "fc4cbe74",
   "metadata": {},
   "source": [
    "Exercise 6:"
   ]
  },
  {
   "cell_type": "code",
   "execution_count": null,
   "id": "4a3e555b",
   "metadata": {},
   "outputs": [],
   "source": [
    "import pandas as pd\n",
    "import sqlite3\n",
    "\n",
    "# 1. Connecting to the Chinook database\n",
    "conn = sqlite3.connect('chinook.db')\n",
    "\n",
    "# 2. Function to execute SQL queries and return results as a pandas dataframe\n",
    "def run_query(query):\n",
    "    return pd.read_sql_query(query, conn)\n",
    "\n",
    "# 3. Customers not in the US\n",
    "query_3 = \"\"\"\n",
    "SELECT FirstName || ' ' || LastName AS FullName, CustomerId, Country\n",
    "FROM customers\n",
    "WHERE Country <> 'USA';\n",
    "\"\"\"\n",
    "result_3 = run_query(query_3)\n",
    "result_3\n",
    "\n",
    "# 4. Customers from Brazil\n",
    "query_4 = \"\"\"\n",
    "SELECT *\n",
    "FROM customers\n",
    "WHERE Country = 'Brazil';\n",
    "\"\"\"\n",
    "result_4 = run_query(query_4)\n",
    "result_4\n",
    "\n",
    "# 5. Invoices of customers from Brazil\n",
    "query_5 = \"\"\"\n",
    "SELECT c.FirstName || ' ' || c.LastName AS FullName, i.InvoiceId, i.InvoiceDate, i.BillingCountry\n",
    "FROM invoices i\n",
    "JOIN customers c ON i.CustomerId = c.CustomerId\n",
    "WHERE c.Country = 'Brazil';\n",
    "\"\"\"\n",
    "result_5 = run_query(query_5)\n",
    "result_5\n",
    "\n",
    "# 6. Employees who are Sales Agents\n",
    "query_6 = \"\"\"\n",
    "SELECT *\n",
    "FROM employees\n",
    "WHERE Title = 'Sales Support Agent';\n",
    "\"\"\"\n",
    "result_6 = run_query(query_6)\n",
    "result_6\n",
    "\n",
    "# 7. Number of invoices and total sales for 2009 and 2011\n",
    "query_7 = \"\"\"\n",
    "SELECT strftime('%Y', InvoiceDate) AS Year, COUNT(*) AS TotalInvoices, SUM(Total) AS TotalSales\n",
    "FROM invoices\n",
    "WHERE strftime('%Y', InvoiceDate) IN ('2009', '2011')\n",
    "GROUP BY Year;\n",
    "\"\"\"\n",
    "result_7 = run_query(query_7)\n",
    "result_7\n",
    "\n",
    "# 8. Number of line items for Invoice ID 37\n",
    "query_8 = \"\"\"\n",
    "SELECT COUNT(*) AS LineItemsCount\n",
    "FROM invoice_items\n",
    "WHERE InvoiceId = 37;\n",
    "\"\"\"\n",
    "result_8 = run_query(query_8)\n",
    "result_8\n",
    "\n",
    "# 9. Number of line items for each Invoice\n",
    "query_9 = \"\"\"\n",
    "SELECT InvoiceId, COUNT(*) AS LineItemsCount\n",
    "FROM invoice_items\n",
    "GROUP BY InvoiceId;\n",
    "\"\"\"\n",
    "result_9 = run_query(query_9)\n",
    "result_9\n",
    "\n",
    "# 10. Query with track name for each invoice line\n",
    "query_10 = \"\"\"\n",
    "SELECT il.InvoiceLineId, t.Name AS TrackName\n",
    "FROM invoice_items il\n",
    "JOIN tracks t ON il.TrackId = t.TrackId;\n",
    "\"\"\"\n",
    "result_10 = run_query(query_10)\n",
    "result_10\n"
   ]
  }
 ],
 "metadata": {
  "kernelspec": {
   "display_name": "Python 3 (ipykernel)",
   "language": "python",
   "name": "python3"
  },
  "language_info": {
   "codemirror_mode": {
    "name": "ipython",
    "version": 3
   },
   "file_extension": ".py",
   "mimetype": "text/x-python",
   "name": "python",
   "nbconvert_exporter": "python",
   "pygments_lexer": "ipython3",
   "version": "3.11.4"
  }
 },
 "nbformat": 4,
 "nbformat_minor": 5
}
