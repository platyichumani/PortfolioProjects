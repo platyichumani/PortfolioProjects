{
 "cells": [
  {
   "cell_type": "markdown",
   "metadata": {},
   "source": [
    "                                               Project 1 PDB470S "
   ]
  },
  {
   "cell_type": "markdown",
   "metadata": {
    "id": "TCCAfrQxKUaj"
   },
   "source": [
    "# **Exercise 1:**"
   ]
  },
  {
   "cell_type": "markdown",
   "metadata": {
    "id": "fGJroJzCJ1Cj"
   },
   "source": [
    "1. \n",
    "2.\n",
    "3.\n",
    "4.\n",
    "5.\n",
    "6.\n",
    "\n",
    "\n",
    "\n"
   ]
  },
  {
   "cell_type": "code",
   "execution_count": null,
   "metadata": {},
   "outputs": [],
   "source": [
    "#1\n",
    "A. CREATE\n",
    "\n",
    "#2\n",
    "D. >\n",
    "\n",
    "#3\n",
    "C. AVG()\n",
    "\n",
    "#4\n",
    "D. WHERE\n",
    "\n",
    "#5\n",
    "C. TRUNCATE table_name\n",
    "\n",
    "#6\n",
    "B. INSERT INTO table_name (column_name) VALUES (new_\n",
    "\n",
    "#7\n",
    "C. JOIN\n",
    "\n",
    "#8\n",
    "D. None of the Above\n",
    "\n",
    "#9\n",
    "C. IS NOT NULL\n",
    "\n",
    "#10\n",
    "B. ORDER BY"
   ]
  },
  {
   "cell_type": "markdown",
   "metadata": {
    "id": "JTmKiUFlKgWd"
   },
   "source": [
    "# **Exercise 2:**"
   ]
  },
  {
   "cell_type": "markdown",
   "metadata": {
    "id": "WzZxIZiOJ2Kf"
   },
   "source": [
    "1. \n",
    "2.\n",
    "3.\n",
    "4.\n",
    "\n",
    "\n"
   ]
  },
  {
   "cell_type": "code",
   "execution_count": null,
   "metadata": {
    "id": "yfZYHQH3J2NT"
   },
   "outputs": [],
   "source": [
    "#1\n",
    "C. 3\n",
    "\n",
    "#2\n",
    "D. All of the above\n",
    "\n",
    "#3\n",
    "A. zoo.insert(2, \"snake\")\n",
    "\n",
    "#4\n",
    "D. All of the above\n",
    "\n",
    "#5\n",
    "B. \"game\" and \"thrones\" \n",
    "\n",
    "#6\n",
    "C. del phone_book[\"Siya\"]\n",
    "\n",
    "#7\n",
    "B. The keys of a dictionary can be accessed using values.\n",
    "\n",
    "#8\n",
    "B. len(d)\n",
    "\n",
    "#9\n",
    "D. None of the above\n",
    "\n",
    "#10\n",
    "D. None of the above\n"
   ]
  },
  {
   "cell_type": "markdown",
   "metadata": {
    "id": "wxBgmgwtKop8"
   },
   "source": [
    "# **Exercise 3:**"
   ]
  },
  {
   "cell_type": "markdown",
   "metadata": {
    "id": "hMevzxfVJ2P7"
   },
   "source": [
    "1. \n",
    "2.\n",
    "3.\n",
    "4.\n",
    "\n",
    "\n"
   ]
  },
  {
   "cell_type": "code",
   "execution_count": null,
   "metadata": {},
   "outputs": [],
   "source": [
    "#1\n",
    "A. LIKE\n",
    "\n",
    "#2.\n",
    "#c\n",
    "SELECT City \n",
    "FROM Weather\n",
    "WHERE Temperature > 70 AND (Condition = 'sunny' OR Condition = 'cloudy');\n",
    "\n",
    "#3.\n",
    "#A\n",
    "SELECT City \n",
    "FROM weather\n",
    "WHERE Humidity BETWEEN 63 AND 79;\n",
    "\n",
    "#4\n",
    "#B\n",
    "SELECT City \n",
    "FROM weather\n",
    "WHERE Temperature > (SELECT Temperature FROM weather WHERE City = 'Paris');\n",
    "\n",
    "#5\n",
    "#D.\n",
    "SELECT country FROM location WHERE city IN (SELECT city FROM weather\n",
    "WHERE condition = 'sunny');\n",
    "\n",
    "#6.\n",
    "#A\n",
    "SELECT city FROM weather WHERE temperature BETWEEN 71 AND\n",
    "89;\n",
    "\n",
    "#7\n",
    "#A.\n",
    "SELECT DISTINCT s.sname FROM sailors s, reserves r WHERE\n",
    "s.sid = r.sid;\n",
    "\n",
    "#8\n",
    "#A.\n",
    "SELECT DISTINCT b.color FROM boats b, reserves r, sailors\n",
    "s WHERE s.sname = 'Dustin' AND s.sid = r.sid AND r.bid;\n",
    "\n",
    "#9.\n",
    "#B. \n",
    "SELECT city FROM weather WHERE temperature > 70 AND\n",
    "condition = 'sunny';\n",
    "\n",
    "#10\n",
    "B. DISTINCT\n"
   ]
  },
  {
   "cell_type": "markdown",
   "metadata": {
    "id": "7-HITapAKqy2"
   },
   "source": [
    "# **Exercise 4:**"
   ]
  },
  {
   "cell_type": "code",
   "execution_count": null,
   "metadata": {},
   "outputs": [],
   "source": [
    "#write your code here.\n",
    "#Exercice 1: \n",
    "\n",
    "def ReverseString(s):\n",
    "    return s[::-1]\n",
    "\n",
    "input_string = \"Hello\"\n",
    "reversed_string = ReverseString(input_string)\n",
    "print(reversed_string)\n"
   ]
  },
  {
   "cell_type": "code",
   "execution_count": null,
   "metadata": {},
   "outputs": [],
   "source": [
    "#write your code here.\n",
    "#Exercice 2:\n",
    "\n",
    "def FindGreatestCommonDivisor(a, b):\n",
    "    while b:\n",
    "        a, b = b, a % b\n",
    "    return a\n",
    "\n",
    "num1 = 12\n",
    "num2 = 18\n",
    "result = FindGreatestCommonDivisor(num1, num2)\n",
    "print(f\"The greatest common divisor of {num1} and {num2} is {result}.\")\n"
   ]
  },
  {
   "cell_type": "code",
   "execution_count": null,
   "metadata": {},
   "outputs": [],
   "source": [
    "#write your code here.\n",
    "#Exercice 3:\n",
    "\n",
    "def CalculateFactorial(n):\n",
    "    factorial = 1\n",
    "    for i in range(1, n + 1):\n",
    "        factorial *= i\n",
    "    return factorial\n",
    "\n",
    "number = 5\n",
    "result = CalculateFactorial(number)\n",
    "print(f\"The factorial of {number} is {result}.\")"
   ]
  },
  {
   "cell_type": "markdown",
   "metadata": {},
   "source": [
    "# **Exercise 5:**"
   ]
  },
  {
   "cell_type": "code",
   "execution_count": null,
   "metadata": {},
   "outputs": [],
   "source": [
    "#you can copy the codes for your SQL Queries here\n",
    "\n",
    "#1.\n",
    "\n",
    "SELECT name, salary \n",
    "FROM employees\n",
    "WHERE salary BETWEEN 9000 AND 10000;\n",
    "\n",
    "\n",
    "#2.\n",
    "SELECT name, salary, department_id \n",
    "FROM employees\n",
    "WHERE salary > 8000;\n",
    "\n",
    "#3.\n",
    "SELECT name \n",
    "FROM employees\n",
    "WHERE department_id = (SELECT id FROM departments WHERE name = 'Sales');\n",
    "\n",
    "#4.\n",
    "SELECT name, salary \n",
    "FROM employees\n",
    "WHERE hire_date < '1987-09-01';\n",
    "\n",
    "#5.\n",
    "SELECT name, salary \n",
    "FROM employees\n",
    "WHERE (department_id, salary) IN (\n",
    "    SELECT department_id, MAX(salary)\n",
    "    FROM employees\n",
    "    GROUP BY department_id\n",
    ");\n",
    "\n",
    "#6.\n",
    "SELECT department_id, AVG(salary) as average_salary \n",
    "FROM employees\n",
    "GROUP BY department_id;\n",
    "\n",
    "#7.\n",
    "SELECT department_id, COUNT(*) as total_employees \n",
    "FROM employees\n",
    "GROUP BY department_id;\n",
    "\n",
    "#8.\n",
    "SELECT e.name, e.salary \n",
    "FROM employees e, employees m\n",
    "WHERE e.manager_id = m.id AND m.salary > e.salary;\n",
    "\n",
    "#9.\n",
    "SELECT * \n",
    "FROM employees\n",
    "WHERE first_name LIKE '%D%' OR first_name LIKE '%S%' OR first_name LIKE '%N%'\n",
    "ORDER BY salary DESC;\n",
    "\n",
    "#10\n",
    "SELECT CONCAT(first_name, ' ', last_name) as full_name, hire_date, salary, department_id \n",
    "FROM employees;\n"
   ]
  }
 ],
 "metadata": {
  "colab": {
   "name": "Sample_Sheet_Test1_PDB470S.ipynb",
   "provenance": []
  },
  "kernelspec": {
   "display_name": "Python 3 (ipykernel)",
   "language": "python",
   "name": "python3"
  },
  "language_info": {
   "codemirror_mode": {
    "name": "ipython",
    "version": 3
   },
   "file_extension": ".py",
   "mimetype": "text/x-python",
   "name": "python",
   "nbconvert_exporter": "python",
   "pygments_lexer": "ipython3",
   "version": "3.11.4"
  }
 },
 "nbformat": 4,
 "nbformat_minor": 1
}
